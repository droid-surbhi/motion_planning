{
 "cells": [
  {
   "cell_type": "markdown",
   "source": [
    "# Rapidly-exploring Random Trees (RRT)\r\n",
    "### Input: start: Tuple, goal: Tuple, obstacles: List[List[Tuple]], space_size: Tuple\r\n",
    "// rrt(start, goal, obstacles, space_size), nearest_point(point, tree), colliding(p1, p2, obstacle),\r\n"
   ],
   "metadata": {}
  },
  {
   "cell_type": "code",
   "execution_count": 1,
   "source": [
    "def distance(p1, p2):\r\n",
    "    return (p1[0]-p2[0])**2 + (p1[1]-p2[1])**2"
   ],
   "outputs": [],
   "metadata": {}
  },
  {
   "cell_type": "code",
   "execution_count": 2,
   "source": [
    "import numpy"
   ],
   "outputs": [],
   "metadata": {}
  },
  {
   "cell_type": "code",
   "execution_count": 3,
   "source": [
    "def nearest_point(point, tree):\r\n",
    "    dist = [distance(point, x) for x in tree]\r\n",
    "    res = tree[numpy.argmin(dist)]\r\n",
    "    return res"
   ],
   "outputs": [],
   "metadata": {}
  },
  {
   "cell_type": "code",
   "execution_count": 48,
   "source": [
    "nearest_point((0,0), [(1,1), (1,2), (2,2)])"
   ],
   "outputs": [
    {
     "output_type": "execute_result",
     "data": {
      "text/plain": [
       "(1, 1)"
      ]
     },
     "metadata": {},
     "execution_count": 48
    }
   ],
   "metadata": {}
  },
  {
   "cell_type": "code",
   "execution_count": 4,
   "source": [
    "import pdb"
   ],
   "outputs": [],
   "metadata": {}
  },
  {
   "cell_type": "code",
   "execution_count": 15,
   "source": [
    "def line_intersects(l1, l2):\r\n",
    "    #pdb.set_trace()\r\n",
    "    if (l1[0][0]<l2[0][0] and l1[1][0]>l2[0][0]) or (l1[0][0]<l2[1][0] and l1[1][0]>l2[1][0])\\\r\n",
    "        or l1[0][0]==l2[0][0] or l1[1][0]==l2[0][0] or l1[0][0]==l2[1][0] or l1[1][0]==l2[1][0]:\r\n",
    "        if (l1[0][1]>l2[0][1] and l1[0][1]<l2[1][1]) or l1[0][1]==l2[0][1] or l1[0][1]==l2[1][1]:\r\n",
    "            return True\r\n",
    "        if (l1[1][1]>l2[0][1] and l1[1][1]<l2[1][1]) or l1[1][1]==l2[0][1] or l1[1][1]==l2[1][1]:\r\n",
    "            return True \r\n",
    "        if (l1[0][1]<l2[0][1] and l1[1][1]>l2[1][1]) or l1[0][1]==l2[0][1] or l1[1][1]==l2[1][1]:\r\n",
    "            return True\r\n",
    "        if (l1[0][1]>l2[1][1] and l1[1][1]<l2[0][1]) or l1[0][1]==l2[1][1] or l1[1][1]==l2[0][1]:\r\n",
    "            return True\r\n",
    "    return False"
   ],
   "outputs": [],
   "metadata": {}
  },
  {
   "cell_type": "code",
   "execution_count": 16,
   "source": [
    "def colliding(p1, p2, obstacle):\r\n",
    "    #obstacle_polygon = {}\r\n",
    "    lines = []\r\n",
    "    for point in obstacle:\r\n",
    "        temp = obstacle.copy()\r\n",
    "        temp.remove(point)\r\n",
    "        np1 = nearest_point(point, temp)\r\n",
    "        temp.remove(np1)\r\n",
    "        np2 = nearest_point(point, temp)\r\n",
    "        #obstacle_polygon[point] = [np1, np2]\r\n",
    "        if (point, np1) not in lines and (np1, point) not in lines:\r\n",
    "            lines.append((point, np1))\r\n",
    "        if (point, np2) not in lines and (np2, point) not in lines:\r\n",
    "            lines.append((point, np2))\r\n",
    "    resp = [line_intersects((p1, p2), x) for x in lines]\r\n",
    "    return lines, resp"
   ],
   "outputs": [],
   "metadata": {}
  },
  {
   "cell_type": "code",
   "execution_count": 17,
   "source": [
    "obs = [(0,0),(0,2), (2,2), (2,0)]\r\n",
    "colliding((0,0), (1,1), obs)"
   ],
   "outputs": [
    {
     "output_type": "execute_result",
     "data": {
      "text/plain": [
       "([((0, 0), (0, 2)), ((0, 0), (2, 0)), ((0, 2), (2, 2)), ((2, 2), (2, 0))],\n",
       " [True, True, False, False])"
      ]
     },
     "metadata": {},
     "execution_count": 17
    }
   ],
   "metadata": {}
  },
  {
   "cell_type": "code",
   "execution_count": 24,
   "source": [
    "def fixed_increment(p1, p2, d, space_size):\r\n",
    "    if p1[0] == p2[0]:\r\n",
    "        return (p1[0], min(p2[1]+d, space_size[1]))\r\n",
    "    if p1[1] == p2[1]:\r\n",
    "        return (min(p2[0]+d, space_size[0]), p2[1])\r\n",
    "    m = (p1[1]-p2[1])/(p1[0]-p2[0])\r\n",
    "    c = p2[1] - m*p2[0]\r\n",
    "    a1 = (1+m*m)\r\n",
    "    b1 = 2*(m*c - m*p2[1] - p2[0])\r\n",
    "    c1 = p2[0]**2 + p2[1]**2 +c**2 - d**2 -2*c\r\n",
    "    under = b1**2 - 4*a1*c1\r\n",
    "    if under < 0:\r\n",
    "        return (p1[0], min(p2[1]+d, space_size[1]))\r\n",
    "    x = (-b1 + numpy.sqrt(under))/(2*a1)\r\n",
    "    y = m*x + c\r\n",
    "    x = min(max(0,x), space_size[0])\r\n",
    "    y = min(max(0,y), space_size[1])\r\n",
    "    return (x, y)"
   ],
   "outputs": [],
   "metadata": {}
  },
  {
   "cell_type": "code",
   "execution_count": 25,
   "source": [
    "fixed_increment((0,0), (2,2), 0.2, (5,5))"
   ],
   "outputs": [
    {
     "output_type": "execute_result",
     "data": {
      "text/plain": [
       "(2.1414213562373097, 2.1414213562373097)"
      ]
     },
     "metadata": {},
     "execution_count": 25
    }
   ],
   "metadata": {}
  },
  {
   "cell_type": "code",
   "execution_count": 8,
   "source": [
    "def goal_isvalid(goal, obstacles):\r\n",
    "    for obstacle in obstacles:\r\n",
    "        minx = min(obstacle, key=lambda x: x[0])[0]\r\n",
    "        miny = min(obstacle, key=lambda x: x[1])[1]\r\n",
    "        maxx = max(obstacle, key=lambda x: x[0])[0]\r\n",
    "        maxy = max(obstacle, key=lambda x: x[1])[1]\r\n",
    "        if goal[0]>= minx and goal[0]<=maxx\\\r\n",
    "        and goal[1]>=miny and goal[1]<=maxy:\r\n",
    "            return False\r\n",
    "    return True"
   ],
   "outputs": [],
   "metadata": {}
  },
  {
   "cell_type": "code",
   "execution_count": 44,
   "source": [
    "goal_isvalid((1,1), [[(0,0), (0,2), (2,2), (2,0)]])"
   ],
   "outputs": [
    {
     "output_type": "execute_result",
     "data": {
      "text/plain": [
       "False"
      ]
     },
     "metadata": {},
     "execution_count": 44
    }
   ],
   "metadata": {}
  },
  {
   "cell_type": "code",
   "execution_count": 27,
   "source": [
    "def rrt(start, goal, obstacles, space_size, d=0.1):\r\n",
    "    tree = [start]\r\n",
    "    connections = []\r\n",
    "    if not goal_isvalid:\r\n",
    "        return \"Path not possible\"\r\n",
    "    goal_reachable = not any([any(colliding(start, goal, obstacle)[1]) for obstacle in obstacles])\r\n",
    "    #print(goal_reachable)\r\n",
    "    while not goal_reachable:\r\n",
    "        new_point = tuple(numpy.random.uniform(space_size))\r\n",
    "        nearest = nearest_point(new_point, tree)\r\n",
    "        new_point = fixed_increment(new_point, nearest, d, space_size=space_size)\r\n",
    "        if not any([any(colliding(nearest, new_point, obstacle)[1]) for obstacle in obstacles]):\r\n",
    "            tree.append(new_point)\r\n",
    "            connections.append((nearest, new_point))\r\n",
    "            goal_reachable = not any([any(colliding(new_point, goal, obstacle)[1]) for obstacle in obstacles])\r\n",
    "    return tree, connections"
   ],
   "outputs": [],
   "metadata": {}
  },
  {
   "cell_type": "code",
   "execution_count": 41,
   "source": [
    "min([(1,0), (2, 0), (3,4), (0,5)], key=lambda x: x[0])"
   ],
   "outputs": [
    {
     "output_type": "execute_result",
     "data": {
      "text/plain": [
       "(0, 5)"
      ]
     },
     "metadata": {},
     "execution_count": 41
    }
   ],
   "metadata": {}
  },
  {
   "cell_type": "code",
   "execution_count": 29,
   "source": [
    "rrt((0,0), (5,5), [[(0,1), (1,1), (1,2), (0,2)]], space_size=(6,6))"
   ],
   "outputs": [
    {
     "output_type": "execute_result",
     "data": {
      "text/plain": [
       "([(0, 0),\n",
       "  (0.027883517380099216, 0.09603389744519227),\n",
       "  (0.29660907156423694, 0.34894575869205097),\n",
       "  (3.9119321307470267, 0.448945758692051)],\n",
       " [((0, 0), (0.027883517380099216, 0.09603389744519227)),\n",
       "  ((0.027883517380099216, 0.09603389744519227),\n",
       "   (0.29660907156423694, 0.34894575869205097)),\n",
       "  ((0.29660907156423694, 0.34894575869205097),\n",
       "   (3.9119321307470267, 0.448945758692051))])"
      ]
     },
     "metadata": {},
     "execution_count": 29
    }
   ],
   "metadata": {}
  },
  {
   "cell_type": "code",
   "execution_count": 18,
   "source": [
    "colliding((0,0), (5,5), [(0,1), (1,1), (1,2), (0,2)])"
   ],
   "outputs": [
    {
     "output_type": "execute_result",
     "data": {
      "text/plain": [
       "([((0, 1), (1, 1)), ((0, 1), (0, 2)), ((1, 1), (1, 2)), ((1, 2), (0, 2))],\n",
       " [True, True, True, True])"
      ]
     },
     "metadata": {},
     "execution_count": 18
    }
   ],
   "metadata": {}
  },
  {
   "cell_type": "code",
   "execution_count": null,
   "source": [],
   "outputs": [],
   "metadata": {}
  }
 ],
 "metadata": {
  "orig_nbformat": 4,
  "language_info": {
   "name": "python",
   "version": "3.8.3",
   "mimetype": "text/x-python",
   "codemirror_mode": {
    "name": "ipython",
    "version": 3
   },
   "pygments_lexer": "ipython3",
   "nbconvert_exporter": "python",
   "file_extension": ".py"
  },
  "kernelspec": {
   "name": "python3",
   "display_name": "Python 3.8.3 64-bit"
  },
  "interpreter": {
   "hash": "2db524e06e9f5f4ffedc911c917cb75e12dbc923643829bf417064a77eb14d37"
  }
 },
 "nbformat": 4,
 "nbformat_minor": 2
}